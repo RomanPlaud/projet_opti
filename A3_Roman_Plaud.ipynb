{
  "nbformat": 4,
  "nbformat_minor": 0,
  "metadata": {
    "colab": {
      "provenance": [],
      "mount_file_id": "1V2opPD8q59RUh9JfxM-ArcPNl3CoBeY6",
      "authorship_tag": "ABX9TyNpRTx01lZLIHlL2hyaTMJe",
      "include_colab_link": true
    },
    "kernelspec": {
      "name": "python3",
      "display_name": "Python 3"
    },
    "language_info": {
      "name": "python"
    },
    "gpuClass": "standard",
    "accelerator": "GPU"
  },
  "cells": [
    {
      "cell_type": "markdown",
      "metadata": {
        "id": "view-in-github",
        "colab_type": "text"
      },
      "source": [
        "<a href=\"https://colab.research.google.com/github/RomanPlaud/projet_opti/blob/main/A3_Roman_Plaud.ipynb\" target=\"_parent\"><img src=\"https://colab.research.google.com/assets/colab-badge.svg\" alt=\"Open In Colab\"/></a>"
      ]
    },
    {
      "cell_type": "code",
      "execution_count": 1,
      "metadata": {
        "colab": {
          "base_uri": "https://localhost:8080/"
        },
        "id": "_FYanv_BdeDq",
        "outputId": "05dd096c-98dc-40b0-fe0a-cc93e6c0892d"
      },
      "outputs": [
        {
          "output_type": "stream",
          "name": "stdout",
          "text": [
            "Cloning into 'recvis22_a3'...\n",
            "remote: Enumerating objects: 11, done.\u001b[K\n",
            "remote: Counting objects: 100% (11/11), done.\u001b[K\n",
            "remote: Compressing objects: 100% (8/8), done.\u001b[K\n",
            "remote: Total 11 (delta 0), reused 8 (delta 0), pack-reused 0\u001b[K\n",
            "Unpacking objects: 100% (11/11), done.\n"
          ]
        }
      ],
      "source": [
        "! git clone https://github.com/willowsierra/recvis22_a3.git"
      ]
    },
    {
      "cell_type": "code",
      "source": [
        "from torchvision.models import resnet50, ResNet50_Weights\n",
        "import torch "
      ],
      "metadata": {
        "id": "5OMYZ9eHtG7d"
      },
      "execution_count": 21,
      "outputs": []
    },
    {
      "cell_type": "code",
      "source": [
        "model = resnet50(weights=ResNet50_Weights.DEFAULT)"
      ],
      "metadata": {
        "id": "o5ksYwwbtMUX"
      },
      "execution_count": 18,
      "outputs": []
    },
    {
      "cell_type": "code",
      "source": [
        "model.fc = torch.nn.Linear(2048, 20)"
      ],
      "metadata": {
        "id": "NDlmwVTwtTLD"
      },
      "execution_count": 31,
      "outputs": []
    },
    {
      "cell_type": "code",
      "source": [
        "! (python /content/recvis22_a3/main.py \\\n",
        "        --data \"/content/drive/MyDrive/MVA/RECVIS/TP3/bird_dataset/\"\\\n",
        "        --batch-size 64\\\n",
        "        --epochs 20 \\\n",
        "        )"
      ],
      "metadata": {
        "colab": {
          "base_uri": "https://localhost:8080/"
        },
        "id": "_rEYFDPody4S",
        "outputId": "23819fd4-68c9-4412-ede3-66652e0a39a6"
      },
      "execution_count": 33,
      "outputs": [
        {
          "output_type": "stream",
          "name": "stdout",
          "text": [
            "Using GPU\n",
            "0it [00:00, ?it/s]Train Epoch: 1 [0/1082 (0%)]\tLoss: 3.018376\n",
            "10it [00:05,  2.30it/s]Train Epoch: 1 [640/1082 (59%)]\tLoss: 2.099875\n",
            "17it [00:08,  2.00it/s]\n",
            "\n",
            "Validation set: Average loss: 0.0420, Accuracy: 39/103 (38%)\n",
            "Saved model to experiment/model_1.pth. You can run `python evaluate.py --model experiment/model_1.pth` to generate the Kaggle formatted csv file\n",
            "\n",
            "0it [00:00, ?it/s]Train Epoch: 2 [0/1082 (0%)]\tLoss: 1.051771\n",
            "10it [00:04,  2.37it/s]Train Epoch: 2 [640/1082 (59%)]\tLoss: 1.281142\n",
            "17it [00:07,  2.36it/s]\n",
            "\n",
            "Validation set: Average loss: 0.0336, Accuracy: 52/103 (50%)\n",
            "Saved model to experiment/model_2.pth. You can run `python evaluate.py --model experiment/model_2.pth` to generate the Kaggle formatted csv file\n",
            "\n",
            "0it [00:00, ?it/s]Train Epoch: 3 [0/1082 (0%)]\tLoss: 0.297673\n",
            "10it [00:04,  2.36it/s]Train Epoch: 3 [640/1082 (59%)]\tLoss: 0.407194\n",
            "17it [00:07,  2.34it/s]\n",
            "\n",
            "Validation set: Average loss: 0.0364, Accuracy: 51/103 (50%)\n",
            "Saved model to experiment/model_3.pth. You can run `python evaluate.py --model experiment/model_3.pth` to generate the Kaggle formatted csv file\n",
            "\n",
            "0it [00:00, ?it/s]Train Epoch: 4 [0/1082 (0%)]\tLoss: 0.076018\n",
            "10it [00:05,  1.89it/s]Train Epoch: 4 [640/1082 (59%)]\tLoss: 0.046292\n",
            "17it [00:08,  2.07it/s]\n",
            "\n",
            "Validation set: Average loss: 0.0346, Accuracy: 56/103 (54%)\n",
            "Saved model to experiment/model_4.pth. You can run `python evaluate.py --model experiment/model_4.pth` to generate the Kaggle formatted csv file\n",
            "\n",
            "0it [00:00, ?it/s]Train Epoch: 5 [0/1082 (0%)]\tLoss: 0.011060\n",
            "10it [00:04,  2.33it/s]Train Epoch: 5 [640/1082 (59%)]\tLoss: 0.015512\n",
            "17it [00:07,  2.30it/s]\n",
            "\n",
            "Validation set: Average loss: 0.0323, Accuracy: 58/103 (56%)\n",
            "Saved model to experiment/model_5.pth. You can run `python evaluate.py --model experiment/model_5.pth` to generate the Kaggle formatted csv file\n",
            "\n",
            "0it [00:00, ?it/s]Train Epoch: 6 [0/1082 (0%)]\tLoss: 0.047325\n",
            "10it [00:04,  2.42it/s]Train Epoch: 6 [640/1082 (59%)]\tLoss: 0.007658\n",
            "17it [00:07,  2.36it/s]\n",
            "\n",
            "Validation set: Average loss: 0.0345, Accuracy: 54/103 (52%)\n",
            "Saved model to experiment/model_6.pth. You can run `python evaluate.py --model experiment/model_6.pth` to generate the Kaggle formatted csv file\n",
            "\n",
            "0it [00:00, ?it/s]Train Epoch: 7 [0/1082 (0%)]\tLoss: 0.006312\n",
            "10it [00:04,  2.36it/s]Train Epoch: 7 [640/1082 (59%)]\tLoss: 0.005440\n",
            "17it [00:07,  2.34it/s]\n",
            "\n",
            "Validation set: Average loss: 0.0335, Accuracy: 59/103 (57%)\n",
            "Saved model to experiment/model_7.pth. You can run `python evaluate.py --model experiment/model_7.pth` to generate the Kaggle formatted csv file\n",
            "\n",
            "0it [00:00, ?it/s]Train Epoch: 8 [0/1082 (0%)]\tLoss: 0.008490\n",
            "10it [00:04,  2.27it/s]Train Epoch: 8 [640/1082 (59%)]\tLoss: 0.003289\n",
            "17it [00:07,  2.26it/s]\n",
            "\n",
            "Validation set: Average loss: 0.0397, Accuracy: 54/103 (52%)\n",
            "Saved model to experiment/model_8.pth. You can run `python evaluate.py --model experiment/model_8.pth` to generate the Kaggle formatted csv file\n",
            "\n",
            "0it [00:00, ?it/s]Train Epoch: 9 [0/1082 (0%)]\tLoss: 0.009883\n",
            "10it [00:04,  2.33it/s]Train Epoch: 9 [640/1082 (59%)]\tLoss: 0.003737\n",
            "17it [00:07,  2.30it/s]\n",
            "\n",
            "Validation set: Average loss: 0.0325, Accuracy: 60/103 (58%)\n",
            "Saved model to experiment/model_9.pth. You can run `python evaluate.py --model experiment/model_9.pth` to generate the Kaggle formatted csv file\n",
            "\n",
            "0it [00:00, ?it/s]Train Epoch: 10 [0/1082 (0%)]\tLoss: 0.001759\n",
            "10it [00:04,  2.35it/s]Train Epoch: 10 [640/1082 (59%)]\tLoss: 0.003043\n",
            "17it [00:07,  2.31it/s]\n",
            "\n",
            "Validation set: Average loss: 0.0317, Accuracy: 59/103 (57%)\n",
            "Saved model to experiment/model_10.pth. You can run `python evaluate.py --model experiment/model_10.pth` to generate the Kaggle formatted csv file\n",
            "\n",
            "0it [00:00, ?it/s]Train Epoch: 11 [0/1082 (0%)]\tLoss: 0.002317\n",
            "10it [00:04,  2.39it/s]Train Epoch: 11 [640/1082 (59%)]\tLoss: 0.001341\n",
            "17it [00:07,  2.36it/s]\n",
            "\n",
            "Validation set: Average loss: 0.0313, Accuracy: 64/103 (62%)\n",
            "Saved model to experiment/model_11.pth. You can run `python evaluate.py --model experiment/model_11.pth` to generate the Kaggle formatted csv file\n",
            "\n",
            "0it [00:00, ?it/s]Train Epoch: 12 [0/1082 (0%)]\tLoss: 0.001331\n",
            "10it [00:04,  2.30it/s]Train Epoch: 12 [640/1082 (59%)]\tLoss: 0.001054\n",
            "17it [00:07,  2.33it/s]\n",
            "\n",
            "Validation set: Average loss: 0.0311, Accuracy: 60/103 (58%)\n",
            "Saved model to experiment/model_12.pth. You can run `python evaluate.py --model experiment/model_12.pth` to generate the Kaggle formatted csv file\n",
            "\n",
            "0it [00:00, ?it/s]Train Epoch: 13 [0/1082 (0%)]\tLoss: 0.001126\n",
            "10it [00:04,  2.40it/s]Train Epoch: 13 [640/1082 (59%)]\tLoss: 0.001568\n",
            "17it [00:07,  2.36it/s]\n",
            "\n",
            "Validation set: Average loss: 0.0314, Accuracy: 63/103 (61%)\n",
            "Saved model to experiment/model_13.pth. You can run `python evaluate.py --model experiment/model_13.pth` to generate the Kaggle formatted csv file\n",
            "\n",
            "0it [00:00, ?it/s]Train Epoch: 14 [0/1082 (0%)]\tLoss: 0.000902\n",
            "10it [00:04,  2.37it/s]Train Epoch: 14 [640/1082 (59%)]\tLoss: 0.001019\n",
            "17it [00:07,  2.35it/s]\n",
            "\n",
            "Validation set: Average loss: 0.0317, Accuracy: 64/103 (62%)\n",
            "Saved model to experiment/model_14.pth. You can run `python evaluate.py --model experiment/model_14.pth` to generate the Kaggle formatted csv file\n",
            "\n",
            "0it [00:00, ?it/s]Train Epoch: 15 [0/1082 (0%)]\tLoss: 0.001869\n",
            "10it [00:04,  2.36it/s]Train Epoch: 15 [640/1082 (59%)]\tLoss: 0.001122\n",
            "17it [00:07,  2.32it/s]\n",
            "\n",
            "Validation set: Average loss: 0.0327, Accuracy: 62/103 (60%)\n",
            "Saved model to experiment/model_15.pth. You can run `python evaluate.py --model experiment/model_15.pth` to generate the Kaggle formatted csv file\n",
            "\n",
            "0it [00:00, ?it/s]Train Epoch: 16 [0/1082 (0%)]\tLoss: 0.001410\n",
            "10it [00:04,  2.32it/s]Train Epoch: 16 [640/1082 (59%)]\tLoss: 0.000849\n",
            "17it [00:07,  2.35it/s]\n",
            "\n",
            "Validation set: Average loss: 0.0324, Accuracy: 64/103 (62%)\n",
            "Saved model to experiment/model_16.pth. You can run `python evaluate.py --model experiment/model_16.pth` to generate the Kaggle formatted csv file\n",
            "\n",
            "0it [00:00, ?it/s]Train Epoch: 17 [0/1082 (0%)]\tLoss: 0.000388\n",
            "10it [00:04,  2.34it/s]Train Epoch: 17 [640/1082 (59%)]\tLoss: 0.000876\n",
            "17it [00:07,  2.33it/s]\n",
            "\n",
            "Validation set: Average loss: 0.0325, Accuracy: 62/103 (60%)\n",
            "Saved model to experiment/model_17.pth. You can run `python evaluate.py --model experiment/model_17.pth` to generate the Kaggle formatted csv file\n",
            "\n",
            "0it [00:00, ?it/s]Train Epoch: 18 [0/1082 (0%)]\tLoss: 0.001561\n",
            "10it [00:04,  2.40it/s]Train Epoch: 18 [640/1082 (59%)]\tLoss: 0.000688\n",
            "17it [00:07,  2.33it/s]\n",
            "\n",
            "Validation set: Average loss: 0.0317, Accuracy: 63/103 (61%)\n",
            "Saved model to experiment/model_18.pth. You can run `python evaluate.py --model experiment/model_18.pth` to generate the Kaggle formatted csv file\n",
            "\n",
            "0it [00:00, ?it/s]Train Epoch: 19 [0/1082 (0%)]\tLoss: 0.000829\n",
            "10it [00:04,  2.38it/s]Train Epoch: 19 [640/1082 (59%)]\tLoss: 0.000489\n",
            "17it [00:07,  2.34it/s]\n",
            "\n",
            "Validation set: Average loss: 0.0324, Accuracy: 60/103 (58%)\n",
            "Saved model to experiment/model_19.pth. You can run `python evaluate.py --model experiment/model_19.pth` to generate the Kaggle formatted csv file\n",
            "\n",
            "0it [00:00, ?it/s]Train Epoch: 20 [0/1082 (0%)]\tLoss: 0.002487\n",
            "10it [00:04,  2.35it/s]Train Epoch: 20 [640/1082 (59%)]\tLoss: 0.001192\n",
            "17it [00:07,  2.33it/s]\n",
            "\n",
            "Validation set: Average loss: 0.0331, Accuracy: 60/103 (58%)\n",
            "Saved model to experiment/model_20.pth. You can run `python evaluate.py --model experiment/model_20.pth` to generate the Kaggle formatted csv file\n",
            "\n"
          ]
        }
      ]
    },
    {
      "cell_type": "code",
      "source": [
        "! (python /content/recvis22_a3/evaluate.py \\\n",
        "        --data \"/content/drive/MyDrive/MVA/RECVIS/TP3/bird_dataset/\"\\\n",
        "        --model /content/experiment/model_1.pth )"
      ],
      "metadata": {
        "colab": {
          "base_uri": "https://localhost:8080/"
        },
        "id": "-RUm7eB4hiM8",
        "outputId": "3c190748-bc20-45b4-c440-1fc6d50429da"
      },
      "execution_count": 14,
      "outputs": [
        {
          "output_type": "stream",
          "name": "stdout",
          "text": [
            "Using GPU\n",
            "100% 517/517 [00:10<00:00, 49.73it/s]\n",
            "Succesfully wrote experiment/kaggle.csv, you can upload this file to the kaggle competition website\n"
          ]
        }
      ]
    }
  ]
}