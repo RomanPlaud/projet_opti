{
 "cells": [
  {
   "cell_type": "code",
   "execution_count": 1,
   "metadata": {},
   "outputs": [
    {
     "name": "stdout",
     "output_type": "stream",
     "text": [
      "Int64[]"
     ]
    },
    {
     "ename": "LoadError",
     "evalue": "syntax: incomplete: \"for\" at In[1]:13 requires end",
     "output_type": "error",
     "traceback": [
      "syntax: incomplete: \"for\" at In[1]:13 requires end",
      "",
      "Stacktrace:",
      " [1] top-level scope",
      "   @ In[1]:13",
      " [2] eval",
      "   @ .\\boot.jl:360 [inlined]",
      " [3] include_string(mapexpr::typeof(REPL.softscope), mod::Module, code::String, filename::String)",
      "   @ Base .\\loading.jl:1094"
     ]
    }
   ],
   "source": [
    "G_max = 200\n",
    "T = 10\n",
    "K = 1\n",
    "p = 0.9\n",
    "#V=[[0 for i in 0:T+1] for j in 0:G_max+1]\n",
    "V = zeros(Int8,(T+1,G_max+1)::Tuple)\n",
    "V[end,:]=K*ones(Int,G_max+1)\n",
    "Q = zeros(Int,(G_max+1,G_max+1)::Tuple)\n",
    "pi = -1*ones(Int,T)\n",
    "\n",
    "print([i for i in (T-1):-1])\n",
    "\n",
    "for t in (T-1):-1\n",
    "    for g in 0:(G_max+1)\n",
    "        V[t,g]=10^(5)\n",
    "        for a in 1:(G_max-g+1)\n",
    "            Q[g,a]=1+(p^a)*V[t+1,g+1]+(1-p^a)*V[t+1,g]\n",
    "            if Q[g,a]<V[t,g]\n",
    "                V[t,g]= Q[g,a]\n",
    "                pi[t]=a\n",
    "\n",
    "        end\n",
    "    end\n",
    "end"
   ]
  },
  {
   "cell_type": "code",
   "execution_count": null,
   "metadata": {},
   "outputs": [],
   "source": []
  }
 ],
 "metadata": {
  "kernelspec": {
   "display_name": "Julia 1.6.0",
   "language": "julia",
   "name": "julia-1.6"
  },
  "language_info": {
   "file_extension": ".jl",
   "mimetype": "application/julia",
   "name": "julia",
   "version": "1.6.0"
  }
 },
 "nbformat": 4,
 "nbformat_minor": 2
}
